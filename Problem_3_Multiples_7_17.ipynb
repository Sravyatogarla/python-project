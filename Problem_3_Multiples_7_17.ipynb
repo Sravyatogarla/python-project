{
 "cells": [
  {
   "cell_type": "markdown",
   "id": "a928fec0-1c07-468f-958c-f48f14096010",
   "metadata": {},
   "source": [
    "## Problem Statement - 3"
   ]
  },
  {
   "cell_type": "markdown",
   "id": "05ea6a63-7bd4-4307-b5c7-d3a73656c0de",
   "metadata": {},
   "source": [
    "~ Write a Python program to create a series from 1 to 1000 and select only numbers divisible by 7 and 17."
   ]
  },
  {
   "cell_type": "code",
   "execution_count": null,
   "id": "428df26c-6c96-4056-8546-6379477aedea",
   "metadata": {},
   "outputs": [],
   "source": [
    "\n",
    "#Create a list to store the numbers divisible by 7 and 17\n",
    "numbers =[]\n",
    "\n",
    "#iterate through numbers from 1 to 1000\n",
    "for num in range(1, 1000):\n",
    "    if num% 7==0 and num%17==0:\n",
    "        numbers.append(num)\n",
    "print(numbers)"
   ]
  }
 ],
 "metadata": {
  "kernelspec": {
   "display_name": "Python 3 (ipykernel)",
   "language": "python",
   "name": "python3"
  },
  "language_info": {
   "codemirror_mode": {
    "name": "ipython",
    "version": 3
   },
   "file_extension": ".py",
   "mimetype": "text/x-python",
   "name": "python",
   "nbconvert_exporter": "python",
   "pygments_lexer": "ipython3",
   "version": "3.12.6"
  }
 },
 "nbformat": 4,
 "nbformat_minor": 5
}

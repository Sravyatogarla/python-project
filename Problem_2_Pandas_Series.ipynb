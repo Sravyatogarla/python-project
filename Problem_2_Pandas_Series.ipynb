{
 "cells": [
  {
   "cell_type": "markdown",
   "id": "9719e8be-20d9-47ee-9a00-0f1af4576bfe",
   "metadata": {},
   "source": [
    "## PROBLEM STATEMENT-2 "
   ]
  },
  {
   "cell_type": "markdown",
   "id": "3c135e0c-07e8-47ad-a252-09578a003e10",
   "metadata": {},
   "source": [
    "# Pandas Series"
   ]
  },
  {
   "cell_type": "markdown",
   "id": "ce959ee0-d404-43f9-bbf1-a7c7464a5343",
   "metadata": {},
   "source": [
    "~ Write a Python program to perform the following tasks-1.Create a pandas series from the below dictionary where indices are subjects:\n",
    "{'English':{'Sam':60,'Jackson':74,'Ahree':85},  \n",
    "'History':{'Gloria':83,'Sam':65,'Isla':78,'Aron':72,'Gray':61},\n",
    "'Geography':{'Jackson':92,'Gloria':95,'Isla':82,'Aron':75,'Ahree':76}, \n",
    "'Mathematics':{'Sam':99,'Gloria':74,'Jackson':89,'Ahree':85,'Gray':95}, \n",
    "'Science':{'Sam':89,'Aron':82,'Gray':78,'Isla':93,'Ahree':87}  } \n",
    "\n",
    "2.Convert the created series into DataFrame and replace the null values with zeroes.\n",
    "3.Transpose the DataFrame and create a new column 'Average' and fill the values in it by calculating the average of all subjects."
   ]
  },
  {
   "cell_type": "code",
   "execution_count": 1,
   "id": "667fe0a4-a6f9-465e-81d8-a2a3c0144f2e",
   "metadata": {},
   "outputs": [
    {
     "name": "stdout",
     "output_type": "stream",
     "text": [
      "English                  {'Sam': 60, 'Jackson': 74, 'Ahree': 85}\n",
      "History        {'Gloria': 83, 'Sam': 65, 'Isla': 78, 'Aron': ...\n",
      "Geography      {'Jackson': 92, 'Gloria': 95, 'Isla': 82, 'Aro...\n",
      "Mathematics    {'Sam': 99, 'Gloria': 74, 'Jackson': 89, 'Ahre...\n",
      "Science        {'Sam': 89, 'Aron': 82, 'Gray': 78, 'Isla': 93...\n",
      "dtype: object\n"
     ]
    }
   ],
   "source": [
    "\n",
    "import pandas as pd\n",
    "\n",
    "#1 Create the dictionary\n",
    "data = {'English': {'Sam': 60, 'Jackson': 74, 'Ahree': 85},\n",
    "    'History': {'Gloria': 83, 'Sam': 65, 'Isla': 78, 'Aron': 72, 'Gray': 61},\n",
    "    'Geography':{'Jackson':92,'Gloria':95,'Isla':82,'Aron':75,'Ahree':76}, \n",
    "    'Mathematics':{'Sam':99,'Gloria':74,'Jackson':89,'Ahree':85,'Gray':95}, \n",
    "    'Science':{'Sam':89,'Aron':82,'Gray':78,'Isla':93,'Ahree':87} }\n",
    "# Convert the dictionary to a pandas Series\n",
    "series = pd.Series(data)\n",
    "print(series)"
   ]
  },
  {
   "cell_type": "code",
   "execution_count": 2,
   "id": "28ce9dfc-8137-44d1-9d6e-465d4fa38521",
   "metadata": {},
   "outputs": [
    {
     "name": "stdout",
     "output_type": "stream",
     "text": [
      "         English  History  Geography  Mathematics  Science\n",
      "Sam         60.0     65.0        0.0         99.0     89.0\n",
      "Jackson     74.0      0.0       92.0         89.0      0.0\n",
      "Ahree       85.0      0.0       76.0         85.0     87.0\n",
      "Gloria       0.0     83.0       95.0         74.0      0.0\n",
      "Isla         0.0     78.0       82.0          0.0     93.0\n",
      "Aron         0.0     72.0       75.0          0.0     82.0\n",
      "Gray         0.0     61.0        0.0         95.0     78.0\n"
     ]
    }
   ],
   "source": [
    "import pandas as pd\n",
    "data = {'English': {'Sam': 60, 'Jackson': 74, 'Ahree': 85},\n",
    "    'History': {'Gloria': 83, 'Sam': 65, 'Isla': 78, 'Aron': 72, 'Gray': 61},\n",
    "    'Geography':{'Jackson':92,'Gloria':95,'Isla':82,'Aron':75,'Ahree':76}, \n",
    "    'Mathematics':{'Sam':99,'Gloria':74,'Jackson':89,'Ahree':85,'Gray':95}, \n",
    "    'Science':{'Sam':89,'Aron':82,'Gray':78,'Isla':93,'Ahree':87} }\n",
    "\n",
    "#convert the dictionary into a DataFrame\n",
    "df = pd.DataFrame(data)\n",
    "\n",
    "#replace all the null values with zeros\n",
    "df.fillna(0, inplace = True)\n",
    "print(df)"
   ]
  },
  {
   "cell_type": "code",
   "execution_count": 3,
   "id": "3df59fe9-9ce6-481d-b6da-e366c6636349",
   "metadata": {},
   "outputs": [
    {
     "name": "stdout",
     "output_type": "stream",
     "text": [
      "         English  History  Geography  Mathematics  Science\n",
      "Sam         60.0     65.0        0.0         99.0     89.0\n",
      "Jackson     74.0      0.0       92.0         89.0      0.0\n",
      "Ahree       85.0      0.0       76.0         85.0     87.0\n",
      "Gloria       0.0     83.0       95.0         74.0      0.0\n",
      "Isla         0.0     78.0       82.0          0.0     93.0\n",
      "Aron         0.0     72.0       75.0          0.0     82.0\n",
      "Gray         0.0     61.0        0.0         95.0     78.0\n",
      "              Sam  Jackson  Ahree  Gloria  Isla  Aron  Gray    average\n",
      "English      60.0     74.0   85.0     0.0   0.0   0.0   0.0  31.285714\n",
      "History      65.0      0.0    0.0    83.0  78.0  72.0  61.0  51.285714\n",
      "Geography     0.0     92.0   76.0    95.0  82.0  75.0   0.0  60.000000\n",
      "Mathematics  99.0     89.0   85.0    74.0   0.0   0.0  95.0  63.142857\n",
      "Science      89.0      0.0   87.0     0.0  93.0  82.0  78.0  61.285714\n"
     ]
    }
   ],
   "source": [
    "import pandas as pd\n",
    "\n",
    "data = {'English': {'Sam': 60, 'Jackson': 74, 'Ahree': 85},\n",
    "    'History': {'Gloria': 83, 'Sam': 65, 'Isla': 78, 'Aron': 72, 'Gray': 61},\n",
    "    'Geography':{'Jackson':92,'Gloria':95,'Isla':82,'Aron':75,'Ahree':76}, \n",
    "    'Mathematics':{'Sam':99,'Gloria':74,'Jackson':89,'Ahree':85,'Gray':95}, \n",
    "    'Science':{'Sam':89,'Aron':82,'Gray':78,'Isla':93,'Ahree':87} }\n",
    "\n",
    "#2 convert the dictionary into a DataFrame\n",
    "df = pd.DataFrame(data)\n",
    "\n",
    "#replace all the null values with zeros\n",
    "df.fillna(0, inplace = True)\n",
    "print(df)\n",
    "\n",
    "#3 transpose the DataFrame\n",
    "df_transposed = df.T\n",
    "\n",
    "#create a new column 'average' and calculate the average of all subjects\n",
    "df_transposed['average'] = df_transposed.mean(axis=1)\n",
    "print(df_transposed)"
   ]
  },
  {
   "cell_type": "code",
   "execution_count": null,
   "id": "ffb3df31-5b4f-4815-a536-c94e6508931d",
   "metadata": {},
   "outputs": [],
   "source": []
  }
 ],
 "metadata": {
  "kernelspec": {
   "display_name": "Python 3 (ipykernel)",
   "language": "python",
   "name": "python3"
  },
  "language_info": {
   "codemirror_mode": {
    "name": "ipython",
    "version": 3
   },
   "file_extension": ".py",
   "mimetype": "text/x-python",
   "name": "python",
   "nbconvert_exporter": "python",
   "pygments_lexer": "ipython3",
   "version": "3.12.6"
  }
 },
 "nbformat": 4,
 "nbformat_minor": 5
}
